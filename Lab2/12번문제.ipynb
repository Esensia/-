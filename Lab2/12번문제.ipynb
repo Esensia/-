{
 "cells": [
  {
   "cell_type": "code",
   "execution_count": 12,
   "metadata": {},
   "outputs": [
    {
     "name": "stdout",
     "output_type": "stream",
     "text": [
      "2*(0.25*(-2*x + 1)**2 - 1)**3 - 3*(0.25*(-2*x + 1)**2 - 1)**2 - 3\n"
     ]
    }
   ],
   "source": [
    "#201400302 홍민기 12.다음합성함수에 대해답하시오.\n",
    "from sympy import *\n",
    "\n",
    "#x= Symbol('x')\n",
    "f= 2*((1.0/4.0)*(1-2*x)**2-1)**3 - 3*((1.0/4.0)*(1-2*x)**2-1)**2 -3\n",
    "print(f)"
   ]
  },
  {
   "cell_type": "code",
   "execution_count": 16,
   "metadata": {},
   "outputs": [],
   "source": [
    "g = 0.25*(-2*x + 1)**2 - 1"
   ]
  },
  {
   "cell_type": "code",
   "execution_count": 17,
   "metadata": {},
   "outputs": [
    {
     "name": "stdout",
     "output_type": "stream",
     "text": [
      "i(x)= x\n",
      "h(x)= -1.0*x + 0.5\n"
     ]
    }
   ],
   "source": [
    "#(1) \n",
    "i= x\n",
    "h= (1.0/2.0)*(1-2*i)\n",
    "g= h**2-1\n",
    "f = 2*g**3 - 3*g**2 -3\n",
    "print(\"i(x)=\",i)\n",
    "print(\"h(x)=\",h)"
   ]
  },
  {
   "cell_type": "code",
   "execution_count": 20,
   "metadata": {},
   "outputs": [
    {
     "name": "stdout",
     "output_type": "stream",
     "text": [
      "f'(x)= -3*(4.0*x - 2.0)*((-1.0*x + 0.5)**2 - 1) + 2*(6.0*x - 3.0)*((-1.0*x + 0.5)**2 - 1)**2\n"
     ]
    }
   ],
   "source": [
    "#(2)\n",
    "print(\"f'(x)=\",Derivative(f, x).doit())"
   ]
  },
  {
   "cell_type": "code",
   "execution_count": 27,
   "metadata": {},
   "outputs": [
    {
     "name": "stdout",
     "output_type": "stream",
     "text": [
      "f'(0)= -7.87500000000000\n",
      "f'(2.1)= 16.7731200000000\n"
     ]
    }
   ],
   "source": [
    "#(3)\n",
    "print(\"f'(0)=\",Derivative(f,x).doit().subs({x:0}))\n",
    "print(\"f'(2.1)=\",Derivative(f,x).doit().subs({x:2.1}))\n"
   ]
  },
  {
   "cell_type": "code",
   "execution_count": null,
   "metadata": {},
   "outputs": [],
   "source": []
  }
 ],
 "metadata": {
  "kernelspec": {
   "display_name": "Python 3",
   "language": "python",
   "name": "python3"
  },
  "language_info": {
   "codemirror_mode": {
    "name": "ipython",
    "version": 3
   },
   "file_extension": ".py",
   "mimetype": "text/x-python",
   "name": "python",
   "nbconvert_exporter": "python",
   "pygments_lexer": "ipython3",
   "version": "3.7.1"
  }
 },
 "nbformat": 4,
 "nbformat_minor": 2
}
