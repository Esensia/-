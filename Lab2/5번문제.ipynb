{
 "cells": [
  {
   "cell_type": "code",
   "execution_count": 1,
   "metadata": {},
   "outputs": [
    {
     "name": "stdout",
     "output_type": "stream",
     "text": [
      "[ 3.  -4.  -1.2  0.   2.3]\n"
     ]
    }
   ],
   "source": [
    "#201400302 홍민기 5.놈을계산하시오\n",
    "import numpy as np\n",
    "xT=np.array([3, -4, -1.2, 0, 2.3])\n",
    "print(xT)\n"
   ]
  },
  {
   "cell_type": "code",
   "execution_count": 2,
   "metadata": {},
   "outputs": [
    {
     "name": "stdout",
     "output_type": "stream",
     "text": [
      "[ 3.  -4.  -1.2  0.   2.3]\n"
     ]
    }
   ],
   "source": [
    "x=np.transpose(xT)\n",
    "print(x)"
   ]
  },
  {
   "cell_type": "code",
   "execution_count": 3,
   "metadata": {},
   "outputs": [
    {
     "name": "stdout",
     "output_type": "stream",
     "text": [
      "1차 노름은 10.5\n",
      "2차 노름은 5.632938842203065\n",
      "3차 노름은 -2.983651814846192\n",
      "최대노름은 4.0\n"
     ]
    }
   ],
   "source": [
    "#1차노름\n",
    "def norm1(x) :\n",
    "    sum=0;\n",
    "    for i in range(0,len(x)):\n",
    "        sum = sum+abs(x[i])\n",
    "    return sum\n",
    "x_1norm = norm1(x)\n",
    "print(\"1차 노름은\", x_1norm)\n",
    "\n",
    "#2차노름\n",
    "x_2norm=np.linalg.norm(x)\n",
    "print(\"2차 노름은\", x_2norm)\n",
    "\n",
    "#3차노름\n",
    "def norm3(x) :\n",
    "    sum=0;\n",
    "    for i in range(0,len(x)):\n",
    "        sum = sum+ x[i]**3\n",
    "    if(sum<0):\n",
    "        return -abs(sum)**(1.0/3.0)\n",
    "    return sum**(1.0/3.0)\n",
    "x_3norm = norm3(x)\n",
    "print(\"3차 노름은\", x_3norm)\n",
    "\n",
    "#max노름\n",
    "x_max= np.linalg.norm(x, np.inf)\n",
    "print(\"최대노름은\", x_max)"
   ]
  },
  {
   "cell_type": "code",
   "execution_count": 4,
   "metadata": {},
   "outputs": [
    {
     "name": "stdout",
     "output_type": "stream",
     "text": [
      "[[2 1]\n",
      " [1 5]\n",
      " [4 1]]\n"
     ]
    }
   ],
   "source": [
    "A = np.array([[2,1],[1,5],[4,1]])\n",
    "print(A)"
   ]
  },
  {
   "cell_type": "code",
   "execution_count": 5,
   "metadata": {},
   "outputs": [
    {
     "name": "stdout",
     "output_type": "stream",
     "text": [
      "프로베니우스 놈은 6.928203230275509\n"
     ]
    }
   ],
   "source": [
    "#프로베니우스 놈\n",
    "print(\"프로베니우스 놈은\", np.linalg.norm(A,'fro'))"
   ]
  }
 ],
 "metadata": {
  "kernelspec": {
   "display_name": "Python 3",
   "language": "python",
   "name": "python3"
  },
  "language_info": {
   "codemirror_mode": {
    "name": "ipython",
    "version": 3
   },
   "file_extension": ".py",
   "mimetype": "text/x-python",
   "name": "python",
   "nbconvert_exporter": "python",
   "pygments_lexer": "ipython3",
   "version": "3.7.1"
  }
 },
 "nbformat": 4,
 "nbformat_minor": 2
}
