{
 "cells": [
  {
   "cell_type": "code",
   "execution_count": 2,
   "metadata": {},
   "outputs": [
    {
     "name": "stdout",
     "output_type": "stream",
     "text": [
      "[[ 1 -2  3  5]\n",
      " [ 2  2 -1  0]\n",
      " [ 3  0  1  2]\n",
      " [ 1  0  2  0]]\n"
     ]
    }
   ],
   "source": [
    "#201400302 홍민기 1. 2A, transpose of A, inverse of A를 쓰시오. 또한 A의 계수(rank)를 쓰시오\n",
    "import numpy as np\n",
    "A = np.array([[1,-2,3,5],[2,2,-1,0],[3,0,1,2],[1,0,2,0]])\n",
    "print(A)"
   ]
  },
  {
   "cell_type": "code",
   "execution_count": 3,
   "metadata": {},
   "outputs": [
    {
     "name": "stdout",
     "output_type": "stream",
     "text": [
      "[[ 2 -4  6 10]\n",
      " [ 4  4 -2  0]\n",
      " [ 6  0  2  4]\n",
      " [ 2  0  4  0]]\n"
     ]
    }
   ],
   "source": [
    "print(2*A)"
   ]
  },
  {
   "cell_type": "code",
   "execution_count": 4,
   "metadata": {},
   "outputs": [
    {
     "name": "stdout",
     "output_type": "stream",
     "text": [
      "[[ 1  2  3  1]\n",
      " [-2  2  0  0]\n",
      " [ 3 -1  1  2]\n",
      " [ 5  0  2  0]]\n"
     ]
    }
   ],
   "source": [
    "AT=np.transpose(A)\n",
    "print(AT)"
   ]
  },
  {
   "cell_type": "code",
   "execution_count": 5,
   "metadata": {},
   "outputs": [
    {
     "name": "stdout",
     "output_type": "stream",
     "text": [
      "[[-0.23529412 -0.23529412  0.58823529 -0.05882353]\n",
      " [ 0.29411765  0.79411765 -0.73529412  0.32352941]\n",
      " [ 0.11764706  0.11764706 -0.29411765  0.52941176]\n",
      " [ 0.29411765  0.29411765 -0.23529412 -0.17647059]]\n"
     ]
    }
   ],
   "source": [
    "InverseA=np.linalg.inv(A)\n",
    "print(InverseA)"
   ]
  },
  {
   "cell_type": "code",
   "execution_count": 6,
   "metadata": {},
   "outputs": [
    {
     "name": "stdout",
     "output_type": "stream",
     "text": [
      "4\n"
     ]
    }
   ],
   "source": [
    "print(np.linalg.matrix_rank(A))\n"
   ]
  },
  {
   "cell_type": "code",
   "execution_count": 7,
   "metadata": {},
   "outputs": [
    {
     "name": "stdout",
     "output_type": "stream",
     "text": [
      "[[ 1 -2  3  5]\n",
      " [ 2  2 -1  0]\n",
      " [ 3  0  1  2]\n",
      " [ 1  0  2  0]]\n",
      "<class 'numpy.ndarray'> <class 'numpy.matrixlib.defmatrix.matrix'>\n",
      "4\n"
     ]
    }
   ],
   "source": [
    "B=np.matrix([[1,-2,3,5],[2,2,-1,0],[3,0,1,2],[1,0,2,0]])\n",
    "print(B)\n",
    "print(type(A),type(B))\n",
    "print(np.linalg.matrix_rank(B))"
   ]
  }
 ],
 "metadata": {
  "kernelspec": {
   "display_name": "Python 3",
   "language": "python",
   "name": "python3"
  },
  "language_info": {
   "codemirror_mode": {
    "name": "ipython",
    "version": 3
   },
   "file_extension": ".py",
   "mimetype": "text/x-python",
   "name": "python",
   "nbconvert_exporter": "python",
   "pygments_lexer": "ipython3",
   "version": "3.7.1"
  }
 },
 "nbformat": 4,
 "nbformat_minor": 2
}
