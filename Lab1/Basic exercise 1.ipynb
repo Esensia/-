{
 "cells": [
  {
   "cell_type": "code",
   "execution_count": 2,
   "metadata": {},
   "outputs": [
    {
     "name": "stdout",
     "output_type": "stream",
     "text": [
      "1 는 첫번째 리스트의 1 번째 원소\n",
      "22 는 첫번째 리스트의 2 번째 원소\n",
      "3 는 첫번째 리스트의 3 번째 원소\n",
      "5 는 첫번째 리스트의 4 번째 원소\n",
      "4 는 두번째 리스트의 1 번째 원소\n",
      "6 는 두번째 리스트의 2 번째 원소\n",
      "9 는 두번째 리스트의 3 번째 원소\n",
      "55 는 두번째 리스트의 4 번째 원소\n",
      "8 는 두번째 리스트의 5 번째 원소\n",
      "9 는 세번째 리스트의 1 번째 원소\n",
      "101 는 세번째 리스트의 2 번째 원소\n",
      "7 는 세번째 리스트의 3 번째 원소\n"
     ]
    }
   ],
   "source": [
    "#201400302 홍민기\n",
    "\n",
    "a=[1,22,3,5]\n",
    "b=[4,6,9,55,8]\n",
    "c=[9,101,7]\n",
    "\n",
    "d = []\n",
    "d = a + b + c\n",
    "\n",
    "for i in range(0,len(d)):\n",
    "    print(d[i],\"는\",end=\" \")\n",
    "    if i<len(a):\n",
    "        print(\"첫번째 리스트의\",i+1,\"번째 원소\")\n",
    "    elif i<len(b)+len(a):\n",
    "        print(\"두번째 리스트의\",i+1-len(a),\"번째 원소\")\n",
    "    else:\n",
    "        print(\"세번째 리스트의\",i+1-len(a)-len(b),\"번째 원소\")"
   ]
  }
 ],
 "metadata": {
  "kernelspec": {
   "display_name": "Python 3",
   "language": "python",
   "name": "python3"
  },
  "language_info": {
   "codemirror_mode": {
    "name": "ipython",
    "version": 3
   },
   "file_extension": ".py",
   "mimetype": "text/x-python",
   "name": "python",
   "nbconvert_exporter": "python",
   "pygments_lexer": "ipython3",
   "version": "3.7.1"
  }
 },
 "nbformat": 4,
 "nbformat_minor": 2
}
