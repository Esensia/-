{
 "cells": [
  {
   "cell_type": "code",
   "execution_count": 16,
   "metadata": {},
   "outputs": [
    {
     "name": "stdout",
     "output_type": "stream",
     "text": [
      "f1'(x) = 2*x                                                    f1(2) = 4\n",
      "f2'(x) = 3*x**2 + 2*x + 1                                       f2(2) = 14\n",
      "f3'(x) = 3*x**3*cos(x**3 + 3) + sin(x**3 + 3)                   f3(2) = 2*sin(11)\n",
      "f4'(x) = -exp(x)*sin(sqrt(exp(x) + 1)/2)/(4*sqrt(exp(x) + 1))   f4(2) = cos(sqrt(1 + exp(2))/2)\n"
     ]
    }
   ],
   "source": [
    "#201400302 홍민기\n",
    "\n",
    "from sympy import *\n",
    "\n",
    "x= Symbol('x')\n",
    "\n",
    "def f1(x):\n",
    "    return x**2\n",
    "\n",
    "def f2(x):\n",
    "    return x**3 + x**2 + x\n",
    "\n",
    "def f3(x):\n",
    "    return x*sin(x*x*x+3)\n",
    "\n",
    "def f4(x):\n",
    "    return cos(sqrt(exp(x)+1)/ 2)\n",
    "\n",
    "f = x**2\n",
    "print(\"f1'(x) =\", Derivative(x**2, x).doit(),\"\".rjust(48,' '), \"  f1(2) =\", f1(2))\n",
    "\n",
    "f= x**3 + x**2 + x\n",
    "print(\"f2'(x) =\", Derivative(x**3 + x**2 + x, x).doit(),\"\".rjust(35,' '), \"  f2(2) =\", f2(2))\n",
    "\n",
    "f= x*sin(x*x*x+3)\n",
    "print(\"f3'(x) =\", Derivative(x*sin(x*x*x+3)).doit(),\"\".rjust(15,' '), \"  f3(2) =\", f3(2))\n",
    "\n",
    "f= cos(sqrt(exp(x)+1)/ 2)\n",
    "print(\"f4'(x) =\", Derivative(cos(sqrt(exp(x)+1)/ 2)).doit(), \"  f4(2) =\", f4(2))"
   ]
  }
 ],
 "metadata": {
  "kernelspec": {
   "display_name": "Python 3",
   "language": "python",
   "name": "python3"
  },
  "language_info": {
   "codemirror_mode": {
    "name": "ipython",
    "version": 3
   },
   "file_extension": ".py",
   "mimetype": "text/x-python",
   "name": "python",
   "nbconvert_exporter": "python",
   "pygments_lexer": "ipython3",
   "version": "3.7.1"
  }
 },
 "nbformat": 4,
 "nbformat_minor": 2
}
