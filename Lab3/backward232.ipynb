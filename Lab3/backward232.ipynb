{
 "cells": [
  {
   "cell_type": "code",
   "execution_count": 1,
   "metadata": {},
   "outputs": [
    {
     "name": "stdout",
     "output_type": "stream",
     "text": [
      "Winput_hidden\n",
      " [[0.9 0.4]\n",
      " [0.2 0.2]\n",
      " [0.1 0.6]]\n",
      "Whidden_output\n",
      " [[0.3 0.7 0.5]\n",
      " [0.8 0.1 0.5]]\n",
      "Eoutput\n",
      " [[0.712]\n",
      " [0.263]]\n",
      "Eoutput_sum\n",
      " 0.975\n",
      "Whidden_output_sum1\n",
      " [[1.5]\n",
      " [1.4]]\n",
      "Whidden_output_norm\n",
      " [[0.2        0.57142857]\n",
      " [0.46666667 0.07142857]\n",
      " [0.33333333 0.35714286]]\n",
      "Ehidden\n",
      " [[0.29268571]\n",
      " [0.35105238]\n",
      " [0.3312619 ]]\n",
      "Ehidden_sum\n",
      " 0.9749999999999999\n",
      "Winput_hidden_sum1\n",
      " [[1.3]\n",
      " [0.4]\n",
      " [0.7]]\n",
      "Winput_hidden_norm\n",
      " [[0.2        0.57142857]\n",
      " [0.46666667 0.07142857]\n",
      " [0.33333333 0.35714286]]\n",
      "Einput\n",
      " [[0.42547789]\n",
      " [0.54952211]]\n",
      "Einput_sum\n",
      " 0.9749999999999999\n"
     ]
    }
   ],
   "source": [
    "#201400302 홍민기\n",
    "import numpy as np\n",
    "import scipy.special\n",
    "\n",
    "Winput_hidden=np.matrix([[0.9,0.4],[0.2,0.2],[0.1,0.6]])\n",
    "print(\"Winput_hidden\\n\", Winput_hidden)\n",
    "\n",
    "Whidden_output=np.matrix([[0.3,0.7,0.5],[0.8,0.1,0.5]])\n",
    "print(\"Whidden_output\\n\", Whidden_output)\n",
    "\n",
    "targets = np.array([0.01, 0.99], ndmin=2).T\n",
    "output=np.array([0.722,0.727], ndmin=2).T\n",
    "Eoutput=np.absolute(output-targets)\n",
    "print(\"Eoutput\\n\", Eoutput)\n",
    "print(\"Eoutput_sum\\n\", Eoutput.sum())\n",
    "#print(\"Eoutput_sum\\n\", sum(Eoutput))\n",
    "\n",
    "Whidden_output_sum1=Whidden_output.sum(axis=1, dtype='float')\n",
    "print(\"Whidden_output_sum1\\n\", Whidden_output_sum1)\n",
    "Whidden_output_norm=Whidden_output.T / Whidden_output_sum1.T\n",
    "print(\"Whidden_output_norm\\n\", Whidden_output_norm)\n",
    "\n",
    "Ehidden=np.dot(Whidden_output_norm,Eoutput)\n",
    "print(\"Ehidden\\n\", Ehidden)\n",
    "print(\"Ehidden_sum\\n\", Ehidden.sum())\n",
    "#print(\"Ehidden_sum\\n\", sum(Ehidden))\n",
    "\n",
    "Winput_hidden_sum1=Winput_hidden.sum(axis=1, dtype='float')\n",
    "print(\"Winput_hidden_sum1\\n\", Winput_hidden_sum1)\n",
    "Winput_hidden_norm=Winput_hidden.T / Winput_hidden_sum1.T\n",
    "print(\"Winput_hidden_norm\\n\", Whidden_output_norm)\n",
    "\n",
    "Einput=np.dot(Winput_hidden_norm, Ehidden)\n",
    "print(\"Einput\\n\", Einput)\n",
    "print(\"Einput_sum\\n\", Einput.sum())\n",
    "#print(\"Einput_sum\\n\", sum(Einput)) "
   ]
  },
  {
   "cell_type": "code",
   "execution_count": null,
   "metadata": {},
   "outputs": [],
   "source": []
  }
 ],
 "metadata": {
  "kernelspec": {
   "display_name": "Python 3",
   "language": "python",
   "name": "python3"
  },
  "language_info": {
   "codemirror_mode": {
    "name": "ipython",
    "version": 3
   },
   "file_extension": ".py",
   "mimetype": "text/x-python",
   "name": "python",
   "nbconvert_exporter": "python",
   "pygments_lexer": "ipython3",
   "version": "3.7.1"
  }
 },
 "nbformat": 4,
 "nbformat_minor": 2
}
