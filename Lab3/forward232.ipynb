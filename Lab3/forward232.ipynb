{
 "cells": [
  {
   "cell_type": "code",
   "execution_count": 4,
   "metadata": {},
   "outputs": [
    {
     "name": "stdout",
     "output_type": "stream",
     "text": [
      "input.T\n",
      " <bound method Kernel.raw_input of <ipykernel.ipkernel.IPythonKernel object at 0x10b7f0048>>\n",
      "Winput_hidden\n",
      " [[0.9 0.4]\n",
      " [0.2 0.2]\n",
      " [0.1 0.6]]\n",
      "Whidden_output\n",
      " [[0.3 0.7 0.5]\n",
      " [0.8 0.1 0.5]]\n",
      "Xhidden\n",
      " [[1.13]\n",
      " [0.34]\n",
      " [0.57]]\n",
      "Ohidden\n",
      " [[0.7558389 ]\n",
      " [0.58419052]\n",
      " [0.63876318]]\n",
      "Xoutput\n",
      " [[0.95506662]\n",
      " [0.98247176]]\n",
      "output\n",
      " [[0.72213297]\n",
      " [0.72759839]]\n"
     ]
    }
   ],
   "source": [
    "# 201400302 홍민기\n",
    "import numpy as np\n",
    "import scipy.special\n",
    "\n",
    "actication_function=lambda x: scipy.special.expit(x)\n",
    "\n",
    "Input=np.array([0.9,0.8], ndmin=2).T\n",
    "#Input=numpy.matrix([[0.9],[0.8]])\n",
    "print(\"input.T\\n\", input)\n",
    "\n",
    "Winput_hidden=np.matrix([[0.9,0.4],[0.2,0.2],[0.1,0.6]])\n",
    "\n",
    "print(\"Winput_hidden\\n\", Winput_hidden)\n",
    "\n",
    "Whidden_output=np.matrix([[0.3,0.7,0.5],[0.8,0.1,0.5]])\n",
    "print(\"Whidden_output\\n\", Whidden_output)\n",
    "\n",
    "Xhidden=np.dot(Winput_hidden,Input)\n",
    "print(\"Xhidden\\n\", Xhidden)\n",
    "\n",
    "Ohidden=actication_function(Xhidden)\n",
    "print(\"Ohidden\\n\", Ohidden)\n",
    "\n",
    "Xoutput=np.dot(Whidden_output,Ohidden)\n",
    "print(\"Xoutput\\n\", Xoutput)\n",
    "\n",
    "output=actication_function(Xoutput)\n",
    "print(\"output\\n\", output)"
   ]
  },
  {
   "cell_type": "code",
   "execution_count": null,
   "metadata": {},
   "outputs": [],
   "source": []
  }
 ],
 "metadata": {
  "kernelspec": {
   "display_name": "Python 3",
   "language": "python",
   "name": "python3"
  },
  "language_info": {
   "codemirror_mode": {
    "name": "ipython",
    "version": 3
   },
   "file_extension": ".py",
   "mimetype": "text/x-python",
   "name": "python",
   "nbconvert_exporter": "python",
   "pygments_lexer": "ipython3",
   "version": "3.7.1"
  }
 },
 "nbformat": 4,
 "nbformat_minor": 2
}
