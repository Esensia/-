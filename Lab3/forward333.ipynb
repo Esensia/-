{
 "cells": [
  {
   "cell_type": "code",
   "execution_count": null,
   "metadata": {},
   "outputs": [],
   "source": [
    "# 201400302 홍민기\n",
    "import numpy as np\n",
    "import scipy.special\n",
    "\n",
    "actication_function=lambda x: scipy.special.expit(x)\n",
    "\n",
    "Input=np.array([0.9,0.1,0.8], ndmin=2).T\n",
    "#Input=numpy.matrix([[0.9],[0.1],[0.8]])\n",
    "print(\"input.T\\n\", input)\n",
    "\n",
    "Winput_hidden=np.matrix([[0.9,0.3,0.4],[0.2,0.8,0.2],[0.1,0.5,0.6]])\n",
    "print(\"Winput_hidden\\n\", Winput_hidden)\n",
    "\n",
    "Whidden_output=np.matrix([[0.3,0.7,0.5],[0.6,0.5,0.2],[0.8,0.1,0.9]])\n",
    "print(\"Whidden_output\\n\", Whidden_output)\n",
    "\n",
    "Xhidden=np.dot(Winput_hidden,Input)\n",
    "print(\"Xhidden\\n\", Xhidden)\n",
    "\n",
    "Ohidden=actication_function(Xhidden)\n",
    "print(\"Ohidden\\n\", Ohidden)\n",
    "\n",
    "Xoutput=np.dot(Whidden_output,Ohidden)\n",
    "print(\"Xoutput\\n\", Xoutput)\n",
    "\n",
    "output=actication_function(Xoutput)\n",
    "print(\"output\\n\", output)"
   ]
  }
 ],
 "metadata": {
  "kernelspec": {
   "display_name": "Python 3",
   "language": "python",
   "name": "python3"
  },
  "language_info": {
   "codemirror_mode": {
    "name": "ipython",
    "version": 3
   },
   "file_extension": ".py",
   "mimetype": "text/x-python",
   "name": "python",
   "nbconvert_exporter": "python",
   "pygments_lexer": "ipython3",
   "version": "3.7.1"
  }
 },
 "nbformat": 4,
 "nbformat_minor": 2
}
