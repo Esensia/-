{
 "cells": [
  {
   "cell_type": "code",
   "execution_count": 3,
   "metadata": {},
   "outputs": [
    {
     "name": "stderr",
     "output_type": "stream",
     "text": [
      "Using TensorFlow backend.\n"
     ]
    },
    {
     "name": "stdout",
     "output_type": "stream",
     "text": [
      "[[1 2]]\n"
     ]
    }
   ],
   "source": [
    "#201400302 홍민기\n",
    "from keras.datasets import mnist\n",
    "import numpy as np\n",
    "(train_images, train_labels), (test_images, test_labels) = mnist.load_data()\n",
    "\n",
    "def naive_relu(x):\n",
    "    assert len(x.shape) == 2 #┈┈ x는 2D 넘파이 배열입니다.\n",
    "\n",
    "    x = x.copy() #┈┈ 입력 텐서 자체를 바꾸지 않도록 복사합니다. for i in range(x.shape[0]):\n",
    "    for i in range(x.shape[0]):\n",
    "        for j in range(x.shape[1]): \n",
    "            x[i, j] = max(x[i, j], 0)\n",
    "    return x\n",
    "x = np.array([[1,2]])\n",
    "print(naive_relu(x))\n"
   ]
  },
  {
   "cell_type": "code",
   "execution_count": 4,
   "metadata": {},
   "outputs": [
    {
     "data": {
      "text/plain": [
       "<Figure size 640x480 with 1 Axes>"
      ]
     },
     "metadata": {},
     "output_type": "display_data"
    }
   ],
   "source": [
    "my_slice = test_images[:, 7:, 7:]\n",
    "import matplotlib.pyplot as plt \n",
    "plt.imshow(my_slice[0], cmap=plt.cm.binary) \n",
    "plt.show()"
   ]
  },
  {
   "cell_type": "code",
   "execution_count": 5,
   "metadata": {},
   "outputs": [],
   "source": [
    "def naive_add_matrix_and_vector(x, y):\n",
    "    assert len(x.shape) == 2 #┈┈ x는 2D 넘파이 배열입니다. \n",
    "    assert len(y.shape) == 1 #┈┈ y는 넘파이 벡터입니다. \n",
    "    assert x.shape[1] == y.shape[0]\n",
    "    \n",
    "def naive_vector_dot(x, y):\n",
    "    assert len(x.shape) == 1 #┈┈ x와 y는 넘파이 벡터입니다. assert len(y.shape) == 1\n",
    "    assert x.shape[0] == y.shape[0]\n",
    "\n",
    "    z = 0.\n",
    "    for i in range(x.shape[0]): \n",
    "        z += x[i] * y[i]\n",
    "    return z\n",
    "\n",
    "def naive_matrix_vector_dot(x, y):\n",
    "    assert len(x.shape) == 2 #┈┈ x는 넘파이 행렬입니다. assert len(y.shape) == 1 ┈┈ y는 넘파이 벡터입니다.\n",
    "    assert x.shape[1] == y.shape[0] #┈┈ x의 두 번째 차원이 y의 첫 번째 차원과 같아야 합니다!\n",
    "\n",
    "    z = np.zeros(x.shape[0]) #┈┈ 이 연산은 x의 행과 같은 크기의 0이 채워진 벡터를 만듭니다. for i in range(x.shape[0]):\n",
    "    for j in range(x.shape[1]): z[i] += x[i, j] * y[j]\n",
    "    return z"
   ]
  },
  {
   "cell_type": "code",
   "execution_count": 6,
   "metadata": {},
   "outputs": [
    {
     "name": "stdout",
     "output_type": "stream",
     "text": [
      "(3, 2)\n"
     ]
    }
   ],
   "source": [
    "x = np.array([[0., 1.],[2., 3.],[4., 5.]])\n",
    "print(x.shape)"
   ]
  },
  {
   "cell_type": "code",
   "execution_count": 7,
   "metadata": {},
   "outputs": [
    {
     "data": {
      "text/plain": [
       "array([[0.],\n",
       "       [1.],\n",
       "       [2.],\n",
       "       [3.],\n",
       "       [4.],\n",
       "       [5.]])"
      ]
     },
     "execution_count": 7,
     "metadata": {},
     "output_type": "execute_result"
    }
   ],
   "source": [
    "x = x.reshape((6, 1))\n",
    "x"
   ]
  },
  {
   "cell_type": "code",
   "execution_count": 8,
   "metadata": {},
   "outputs": [
    {
     "data": {
      "text/plain": [
       "array([[0., 1., 2.],\n",
       "       [3., 4., 5.]])"
      ]
     },
     "execution_count": 8,
     "metadata": {},
     "output_type": "execute_result"
    }
   ],
   "source": [
    "x = x.reshape((2, 3))\n",
    "x"
   ]
  },
  {
   "cell_type": "code",
   "execution_count": 9,
   "metadata": {},
   "outputs": [
    {
     "name": "stdout",
     "output_type": "stream",
     "text": [
      "(20, 300)\n"
     ]
    }
   ],
   "source": [
    "x = np.zeros((300, 20)) #┈┈ 모두 0으로 채워진 (300, 20) 크기의 행렬을 만듭니다.\n",
    "x = np.transpose(x)\n",
    "print(x.shape)"
   ]
  },
  {
   "cell_type": "code",
   "execution_count": null,
   "metadata": {},
   "outputs": [],
   "source": []
  }
 ],
 "metadata": {
  "kernelspec": {
   "display_name": "Python 3",
   "language": "python",
   "name": "python3"
  },
  "language_info": {
   "codemirror_mode": {
    "name": "ipython",
    "version": 3
   },
   "file_extension": ".py",
   "mimetype": "text/x-python",
   "name": "python",
   "nbconvert_exporter": "python",
   "pygments_lexer": "ipython3",
   "version": "3.7.1"
  }
 },
 "nbformat": 4,
 "nbformat_minor": 2
}
