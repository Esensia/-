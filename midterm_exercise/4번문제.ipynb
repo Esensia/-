{
 "cells": [
  {
   "cell_type": "code",
   "execution_count": 3,
   "metadata": {},
   "outputs": [
    {
     "name": "stdout",
     "output_type": "stream",
     "text": [
      "WInput_hidden\n",
      " [[3. 2.]\n",
      " [1. 7.]]\n",
      "Whidden_output\n",
      " [[2. 3.]\n",
      " [1. 4.]]\n",
      "Ohidden\n",
      " [[0.4]\n",
      " [0.5]]\n",
      "Eoutput\n",
      " [[0.8]\n",
      " [0.5]]\n",
      "Eoutput_sum\n",
      " [1.3]\n",
      "WjkOj\n",
      " [[2.3]\n",
      " [2.4]]\n",
      "delEoverdelWjk\n",
      " [[-0.16  -0.2  ]\n",
      " [-0.1   -0.125]]\n",
      "new Whidden_output\n",
      " [[2.016  3.02  ]\n",
      " [1.01   4.0125]]\n"
     ]
    }
   ],
   "source": [
    "import numpy as np\n",
    "import scipy.special\n",
    "\n",
    "actication_function=lambda x: scipy.special.expit(x)\n",
    "\n",
    "WInput_hidden=np.array([[3.0,2.0],[1.0,7.0]])\n",
    "#WInput_hidden=np.matrix([[3.0,2.0],[1.0,7.0]])\n",
    "print(\"WInput_hidden\\n\", WInput_hidden)\n",
    "\n",
    "Whidden_output=np.array([[2.0,3.0],[1.0,4.0]])\n",
    "#Whidden_output=np.matrix([[2.0,3.0],[1.0,4.0]])\n",
    "print(\"Whidden_output\\n\", Whidden_output)\n",
    "\n",
    "activation_function=lambda x: 0.5*(x)\n",
    "\n",
    "Ohidden=np.array([0.4,0.5], ndmin=2).T\n",
    "print(\"Ohidden\\n\", Ohidden)\n",
    "\n",
    "Eoutput=np.array([0.8,0.5], ndmin=2).T\n",
    "print(\"Eoutput\\n\", Eoutput)\n",
    "\n",
    "WjkOj=np.dot(Whidden_output, Ohidden)\n",
    "print(\"WjkOj\\n\", WjkOj)\n",
    "\n",
    "delEoverdelWjk = -np.dot(Eoutput*0.5, Ohidden.T)\n",
    "print(\"delEoverdelWjk\\n\",delEoverdelWjk)\n",
    "Whidden_output = Whidden_output - (0.1 * delEoverdelWjk)\n",
    "print(\"new Whidden_output\\n\", Whidden_output)\n"
   ]
  },
  {
   "cell_type": "code",
   "execution_count": null,
   "metadata": {},
   "outputs": [],
   "source": []
  }
 ],
 "metadata": {
  "kernelspec": {
   "display_name": "Python 3",
   "language": "python",
   "name": "python3"
  },
  "language_info": {
   "codemirror_mode": {
    "name": "ipython",
    "version": 3
   },
   "file_extension": ".py",
   "mimetype": "text/x-python",
   "name": "python",
   "nbconvert_exporter": "python",
   "pygments_lexer": "ipython3",
   "version": "3.7.1"
  }
 },
 "nbformat": 4,
 "nbformat_minor": 2
}
