{
 "cells": [
  {
   "cell_type": "code",
   "execution_count": 14,
   "metadata": {},
   "outputs": [
    {
     "name": "stdout",
     "output_type": "stream",
     "text": [
      "Winput_hidden\n",
      " [[3. 2.]\n",
      " [1. 7.]]\n",
      "Whidden_output\n",
      " [[2. 3.]\n",
      " [1. 4.]]\n",
      "Target\n",
      " [[6.7]\n",
      " [7.2]]\n",
      "Eoutput\n",
      " [[0.8]\n",
      " [0.5]]\n",
      "Eoutput_sum\n",
      " 1.2999999999999998\n",
      "Whidden_output_sum1\n",
      " [5. 5.]\n",
      "Whidden_output_norm\n",
      " [[0.4 0.2]\n",
      " [0.6 0.8]]\n",
      "Ehidden\n",
      " [[0.42]\n",
      " [0.88]]\n",
      "Ehidden_sum\n",
      " 1.2999999999999998\n",
      "Winput_hidden_sum1\n",
      " [5. 8.]\n",
      "Winput_hidden_norm\n",
      " [[0.6   0.125]\n",
      " [0.4   0.875]]\n",
      "Einput\n",
      " [[0.362]\n",
      " [0.938]]\n",
      "Einput_sum\n",
      " 1.2999999999999998\n"
     ]
    }
   ],
   "source": [
    "import numpy as np\n",
    "import scipy.special\n",
    "\n",
    "Winput_hidden=np.array([[3.0,2.0],[1.0,7.0]])\n",
    "#Winput_hidden=np.matrix([[3.0,2.0],[1.0,7.0]])\n",
    "print(\"Winput_hidden\\n\", Winput_hidden)\n",
    "\n",
    "Whidden_output=np.array([[2.0,3.0],[1.0,4.0]])\n",
    "#Whidden_output=np.matrix([[2.0,3.0],[1.0,4.0]])\n",
    "print(\"Whidden_output\\n\", Whidden_output)\n",
    "\n",
    "Target = np.array([6.7,7.2],ndmin=2).T\n",
    "print(\"Target\\n\",Target)\n",
    "output=np.array([5.9,6.7],ndmin=2).T\n",
    "Eoutput=np.absolute(output-Target)\n",
    "print(\"Eoutput\\n\", Eoutput)\n",
    "print(\"Eoutput_sum\\n\", Eoutput.sum())\n",
    "#print(\"Eoutput_sum\\n\", sum(Eoutput))\n",
    "\n",
    "Whidden_output_sum1=Whidden_output.sum(axis=1, dtype='float')\n",
    "print(\"Whidden_output_sum1\\n\", Whidden_output_sum1)\n",
    "Whidden_output_norm=Whidden_output.T / Whidden_output_sum1.T\n",
    "print(\"Whidden_output_norm\\n\", Whidden_output_norm)\n",
    "\n",
    "Ehidden=np.dot(Whidden_output_norm, Eoutput)\n",
    "print(\"Ehidden\\n\", Ehidden)\n",
    "print(\"Ehidden_sum\\n\", Ehidden.sum())\n",
    "#print(\"Ehidden_sum\\n\", sum(Ehidden))\n",
    "\n",
    "Winput_hidden_sum1=Winput_hidden.sum(axis=1, dtype='float')\n",
    "print(\"Winput_hidden_sum1\\n\", Winput_hidden_sum1)\n",
    "Winput_hidden_norm=Winput_hidden.T / Winput_hidden_sum1.T\n",
    "print(\"Winput_hidden_norm\\n\", Winput_hidden_norm)\n",
    "\n",
    "Einput=np.dot(Winput_hidden_norm, Ehidden)\n",
    "print(\"Einput\\n\", Einput)\n",
    "print(\"Einput_sum\\n\", Einput.sum())\n",
    "#print(\"Einput_sum\\n\", sum(Einput))"
   ]
  },
  {
   "cell_type": "code",
   "execution_count": null,
   "metadata": {},
   "outputs": [],
   "source": []
  }
 ],
 "metadata": {
  "kernelspec": {
   "display_name": "Python 3",
   "language": "python",
   "name": "python3"
  },
  "language_info": {
   "codemirror_mode": {
    "name": "ipython",
    "version": 3
   },
   "file_extension": ".py",
   "mimetype": "text/x-python",
   "name": "python",
   "nbconvert_exporter": "python",
   "pygments_lexer": "ipython3",
   "version": "3.7.1"
  }
 },
 "nbformat": 4,
 "nbformat_minor": 2
}
