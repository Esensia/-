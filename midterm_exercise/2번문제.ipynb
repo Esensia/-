{
 "cells": [
  {
   "cell_type": "code",
   "execution_count": 3,
   "metadata": {},
   "outputs": [
    {
     "name": "stdout",
     "output_type": "stream",
     "text": [
      "input.T\n",
      " [[0.4]\n",
      " [0.8]]\n",
      "Winput_hidden\n",
      " [[3. 2.]\n",
      " [1. 7.]]\n",
      "Whidden_output\n",
      " [[2. 3.]\n",
      " [1. 4.]]\n",
      "Xhidden\n",
      " [[2.8]\n",
      " [6. ]]\n",
      "Ohidden\n",
      " [[1.4]\n",
      " [3. ]]\n",
      "Xoutput\n",
      " [[11.8]\n",
      " [13.4]]\n",
      "output\n",
      " [[5.9]\n",
      " [6.7]]\n"
     ]
    }
   ],
   "source": [
    "import numpy as np\n",
    "import scipy.special\n",
    "\n",
    "actication_function=lambda x: 0.5*(x)\n",
    "\n",
    "Input=np.array([0.4,0.8], ndmin=2).T\n",
    "print(\"input.T\\n\", Input)\n",
    "\n",
    "Winput_hidden=np.matrix([[3.0,2.0],[1.0,7.0]])\n",
    "print(\"Winput_hidden\\n\", Winput_hidden)\n",
    "\n",
    "Whidden_output=np.matrix([[2.0,3.0],[1.0,4.0]])\n",
    "print(\"Whidden_output\\n\", Whidden_output)\n",
    "\n",
    "Xhidden=np.dot(Winput_hidden,Input)\n",
    "print(\"Xhidden\\n\", Xhidden)\n",
    "\n",
    "Ohidden=actication_function(Xhidden)\n",
    "print(\"Ohidden\\n\", Ohidden)\n",
    "\n",
    "Xoutput=np.dot(Whidden_output,Ohidden)\n",
    "print(\"Xoutput\\n\", Xoutput)\n",
    "\n",
    "output=actication_function(Xoutput)\n",
    "print(\"output\\n\", output)"
   ]
  },
  {
   "cell_type": "code",
   "execution_count": null,
   "metadata": {},
   "outputs": [],
   "source": []
  }
 ],
 "metadata": {
  "kernelspec": {
   "display_name": "Python 3",
   "language": "python",
   "name": "python3"
  },
  "language_info": {
   "codemirror_mode": {
    "name": "ipython",
    "version": 3
   },
   "file_extension": ".py",
   "mimetype": "text/x-python",
   "name": "python",
   "nbconvert_exporter": "python",
   "pygments_lexer": "ipython3",
   "version": "3.7.1"
  }
 },
 "nbformat": 4,
 "nbformat_minor": 2
}
