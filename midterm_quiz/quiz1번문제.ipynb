{
 "cells": [
  {
   "cell_type": "code",
   "execution_count": 7,
   "metadata": {},
   "outputs": [
    {
     "name": "stdout",
     "output_type": "stream",
     "text": [
      "Winput_output\n",
      " [[0.9 0.3]\n",
      " [0.2 0.8]]\n",
      "input.T\n",
      " [[1. ]\n",
      " [0.5]]\n",
      "\n",
      "Xoutput\n",
      " [[1.05]\n",
      " [0.6 ]]\n",
      "output\n",
      " [[0.7407749 ]\n",
      " [0.64565631]]\n"
     ]
    }
   ],
   "source": [
    "import numpy as np\n",
    "import scipy.special\n",
    "\n",
    "actication_function=lambda x: scipy.special.expit(x)\n",
    "\n",
    "Winput_output=np.matrix([[0.9,0.3],[0.2,0.8]])\n",
    "print(\"Winput_output\\n\", Winput_output)\n",
    "\n",
    "Input=np.array([1.0,0.5], ndmin=2).T\n",
    "print(\"input.T\\n\", Input)\n",
    "\n",
    "Xoutput=np.dot(Winput_output,Input)\n",
    "print(\"\\nXoutput\\n\", Xoutput)\n",
    "\n",
    "output=actication_function(Xoutput)\n",
    "print(\"output\\n\", output)"
   ]
  },
  {
   "cell_type": "code",
   "execution_count": null,
   "metadata": {},
   "outputs": [],
   "source": []
  }
 ],
 "metadata": {
  "kernelspec": {
   "display_name": "Python 3",
   "language": "python",
   "name": "python3"
  },
  "language_info": {
   "codemirror_mode": {
    "name": "ipython",
    "version": 3
   },
   "file_extension": ".py",
   "mimetype": "text/x-python",
   "name": "python",
   "nbconvert_exporter": "python",
   "pygments_lexer": "ipython3",
   "version": "3.7.1"
  }
 },
 "nbformat": 4,
 "nbformat_minor": 2
}
