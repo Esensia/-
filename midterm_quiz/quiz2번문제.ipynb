{
 "cells": [
  {
   "cell_type": "code",
   "execution_count": 2,
   "metadata": {},
   "outputs": [
    {
     "name": "stdout",
     "output_type": "stream",
     "text": [
      "input.T\n",
      " [[0.9]\n",
      " [0.1]\n",
      " [0.8]]\n",
      "Winput_hidden\n",
      " [[0.9 0.3 0.4]\n",
      " [0.2 0.8 0.2]\n",
      " [0.1 0.5 0.6]]\n",
      "Whidden_output\n",
      " [[0.3 0.7 0.5]\n",
      " [0.6 0.5 0.2]\n",
      " [0.8 0.1 0.9]]\n",
      "Xhidden\n",
      " [[1.16]\n",
      " [0.42]\n",
      " [0.62]]\n",
      "Ohidden\n",
      " [[0.58]\n",
      " [0.21]\n",
      " [0.31]]\n",
      "Xoutput\n",
      " [[0.476]\n",
      " [0.515]\n",
      " [0.764]]\n",
      "output\n",
      " [[0.238 ]\n",
      " [0.2575]\n",
      " [0.382 ]]\n"
     ]
    }
   ],
   "source": [
    "import numpy as np\n",
    "import scipy.special\n",
    "\n",
    "actication_function=lambda x: 0.5*(x)\n",
    "\n",
    "Input=np.array([0.9,0.1,0.8], ndmin=2).T\n",
    "#Input=numpy.matrix([[0.9],[0.1],[0.8]])\n",
    "print(\"input.T\\n\", Input)\n",
    "\n",
    "Winput_hidden=np.matrix([[0.9,0.3,0.4],[0.2,0.8,0.2],[0.1,0.5,0.6]])\n",
    "print(\"Winput_hidden\\n\", Winput_hidden)\n",
    "\n",
    "Whidden_output=np.matrix([[0.3,0.7,0.5],[0.6,0.5,0.2],[0.8,0.1,0.9]])\n",
    "print(\"Whidden_output\\n\", Whidden_output)\n",
    "\n",
    "Xhidden=np.dot(Winput_hidden,Input)\n",
    "print(\"Xhidden\\n\", Xhidden)\n",
    "\n",
    "Ohidden=actication_function(Xhidden)\n",
    "print(\"Ohidden\\n\", Ohidden)\n",
    "\n",
    "Xoutput=np.dot(Whidden_output,Ohidden)\n",
    "print(\"Xoutput\\n\", Xoutput)\n",
    "\n",
    "output=actication_function(Xoutput)\n",
    "print(\"output\\n\", output)"
   ]
  },
  {
   "cell_type": "code",
   "execution_count": null,
   "metadata": {},
   "outputs": [],
   "source": []
  }
 ],
 "metadata": {
  "kernelspec": {
   "display_name": "Python 3",
   "language": "python",
   "name": "python3"
  },
  "language_info": {
   "codemirror_mode": {
    "name": "ipython",
    "version": 3
   },
   "file_extension": ".py",
   "mimetype": "text/x-python",
   "name": "python",
   "nbconvert_exporter": "python",
   "pygments_lexer": "ipython3",
   "version": "3.7.1"
  }
 },
 "nbformat": 4,
 "nbformat_minor": 2
}
