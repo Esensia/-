{
 "cells": [
  {
   "cell_type": "code",
   "execution_count": 1,
   "metadata": {},
   "outputs": [
    {
     "name": "stdout",
     "output_type": "stream",
     "text": [
      "Winput_hidden\n",
      " [[0.9 0.3 0.4]\n",
      " [0.2 0.8 0.2]\n",
      " [0.1 0.5 0.6]]\n",
      "Whidden_output\n",
      " [[0.3 0.7 0.5]\n",
      " [0.6 0.5 0.2]\n",
      " [0.8 0.1 0.9]]\n",
      "Eoutput\n",
      " [[0.228 ]\n",
      " [0.2475]\n",
      " [0.608 ]]\n",
      "Eoutput_sum\n",
      " 1.0835\n",
      "Whidden_output_sum1\n",
      " [[1.5]\n",
      " [1.3]\n",
      " [1.8]]\n",
      "Whidden_output_norm\n",
      " [[0.2        0.46153846 0.44444444]\n",
      " [0.46666667 0.38461538 0.05555556]\n",
      " [0.33333333 0.15384615 0.5       ]]\n",
      "Ehidden\n",
      " [[0.43005299]\n",
      " [0.23537009]\n",
      " [0.41807692]]\n",
      "Ehidden_sum\n",
      " 1.0835\n",
      "Winput_hidden_sum1\n",
      " [[1.6]\n",
      " [1.2]\n",
      " [1.2]]\n",
      "Winput_hidden_norm\n",
      " [[0.5625     0.16666667 0.08333333]\n",
      " [0.1875     0.66666667 0.41666667]\n",
      " [0.25       0.16666667 0.5       ]]\n",
      "Einput\n",
      " [[0.3159729 ]\n",
      " [0.41174704]\n",
      " [0.35578006]]\n",
      "Einput_sum\n",
      " 1.0835\n"
     ]
    }
   ],
   "source": [
    "# 201400302 홍민기\n",
    "import numpy as np\n",
    "import scipy.special\n",
    "\n",
    "Winput_hidden=np.matrix([[0.9,0.3,0.4],[0.2,0.8,0.2],[0.1,0.5,0.6]])\n",
    "print(\"Winput_hidden\\n\", Winput_hidden)\n",
    "\n",
    "Whidden_output=np.matrix([[0.3,0.7,0.5],[0.6,0.5,0.2],[0.8,0.1,0.9]])\n",
    "print(\"Whidden_output\\n\", Whidden_output)\n",
    "\n",
    "targets = np.array([0.01, 0.01, 0.99], ndmin=2).T\n",
    "output=np.array([0.238,0.2575,0.382], ndmin=2).T\n",
    "Eoutput=np.absolute(output-targets)\n",
    "print(\"Eoutput\\n\", Eoutput)\n",
    "print(\"Eoutput_sum\\n\", Eoutput.sum())\n",
    "#print(\"Eoutput_sum\\n\", sum(Eoutput))\n",
    "\n",
    "Whidden_output_sum1=Whidden_output.sum(axis=1, dtype='float')\n",
    "print(\"Whidden_output_sum1\\n\", Whidden_output_sum1)\n",
    "Whidden_output_norm=Whidden_output.T / Whidden_output_sum1.T\n",
    "print(\"Whidden_output_norm\\n\", Whidden_output_norm)\n",
    "\n",
    "Ehidden=np.dot(Whidden_output_norm,Eoutput)\n",
    "print(\"Ehidden\\n\", Ehidden)\n",
    "print(\"Ehidden_sum\\n\", Ehidden.sum())\n",
    "#print(\"Ehidden_sum\\n\", sum(Ehidden))\n",
    "\n",
    "Winput_hidden_sum1=Winput_hidden.sum(axis=1, dtype='float')\n",
    "print(\"Winput_hidden_sum1\\n\", Winput_hidden_sum1)\n",
    "Winput_hidden_norm=Winput_hidden.T / Winput_hidden_sum1.T\n",
    "print(\"Winput_hidden_norm\\n\", Winput_hidden_norm)\n",
    "\n",
    "Einput=np.dot(Winput_hidden_norm, Ehidden)\n",
    "print(\"Einput\\n\", Einput)\n",
    "print(\"Einput_sum\\n\", Einput.sum())\n",
    "#print(\"Einput_sum\\n\", sum(Einput)) "
   ]
  },
  {
   "cell_type": "code",
   "execution_count": null,
   "metadata": {},
   "outputs": [],
   "source": []
  }
 ],
 "metadata": {
  "kernelspec": {
   "display_name": "Python 3",
   "language": "python",
   "name": "python3"
  },
  "language_info": {
   "codemirror_mode": {
    "name": "ipython",
    "version": 3
   },
   "file_extension": ".py",
   "mimetype": "text/x-python",
   "name": "python",
   "nbconvert_exporter": "python",
   "pygments_lexer": "ipython3",
   "version": "3.7.1"
  }
 },
 "nbformat": 4,
 "nbformat_minor": 2
}
